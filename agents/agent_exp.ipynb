{
 "cells": [
  {
   "cell_type": "code",
   "execution_count": 7,
   "id": "d2e07c73",
   "metadata": {
    "scrolled": false
   },
   "outputs": [
    {
     "name": "stdout",
     "output_type": "stream",
     "text": [
      "\u001b[33muser_proxy_admin\u001b[0m (to autism_teacher):\n",
      "\n",
      "社交困难型\n",
      "\n",
      "--------------------------------------------------------------------------------\n",
      "\u001b[33mautism_teacher\u001b[0m (to user_proxy_admin):\n",
      "\n",
      "(了解到用户选择了社交交往困难的儿童类型，我需要以简单、鼓励的方式来帮助这些儿童在模拟的社交场景中提高他们的社交技巧。这要求我使用简短而具体的问题和建议，帮助他们理解和练习社交互动的基本原则。)\n",
      "\n",
      "【嘿，今天我们来聊聊在公园玩的时候，如果你看到其他孩子在玩你感兴趣的游戏，你会怎么做呢？是靠近他们观察还是尝试加入他们？如果你想加入，你可以向他们微笑并问：“我可以和你们一起玩吗？”记住，微笑是一个很好的开始。】\n",
      "\n",
      "--------------------------------------------------------------------------------\n",
      "Provide feedback to autism_teacher. Press enter to skip and use auto-reply, or type 'exit' to end the conversation: 我会先看看\n",
      "\u001b[33muser_proxy_admin\u001b[0m (to autism_teacher):\n",
      "\n",
      "我会先看看\n",
      "\n",
      "--------------------------------------------------------------------------------\n",
      "\u001b[33mautism_teacher\u001b[0m (to user_proxy_admin):\n",
      "\n",
      "(明白了，用户选择了先观察的方式。这是一个很自然的反应，特别是对于社交交往有困难的孩子来说。我要鼓励他们观察是好的第一步，同时也要引导他们了解，当他们准备好时，如何采取下一步行动，渐渐地加入到游戏中去。)\n",
      "\n",
      "【看看是个好主意！这样你可以学习游戏规则，也可以找到合适的时机加入他们。观察的时候，你可以注意他们是怎么交流的，用的是什么样的词或者动作。当你感觉准备好了，记得用我们刚才说的那句话尝试加入。还有，如果有人回应你，记得用眼神联系和微笑，这样可以让大家感觉更加舒服哦。你觉得这样做，你可以试试吗？】\n",
      "\n",
      "--------------------------------------------------------------------------------\n",
      "Provide feedback to autism_teacher. Press enter to skip and use auto-reply, or type 'exit' to end the conversation: 我可以的\n",
      "\u001b[33muser_proxy_admin\u001b[0m (to autism_teacher):\n",
      "\n",
      "我可以的\n",
      "\n",
      "--------------------------------------------------------------------------------\n",
      "\u001b[33mautism_teacher\u001b[0m (to user_proxy_admin):\n",
      "\n",
      "(看来用户感觉更自信一些了，愿意尝试加入游戏。这是一个很好的进步！接下来，我需要鼓励他，并给予一些具体的建议，以帮助他在实际尝试加入游戏时更加自在和成功。)\n",
      "\n",
      "【太好了！我真的很高兴听到你愿意尝试。记得，没有人每次都能完美地做到一切，如果第一次不如意，也完全没有关系。最重要的是你尝试了，每一次尝试都是一次学习和成长的机会。也许你还可以事先想几个简单的话题或问题，如果游戏中出现了沉默的时刻，你可以用它们来和别的孩子聊天。比如说：“你最喜欢这个游戏的哪个部分？”或者“你还知道类似的游戏吗？”这样可以帮助你和其他孩子建立更好的联系。你觉得这个主意怎么样？】\n",
      "\n",
      "--------------------------------------------------------------------------------\n",
      "Provide feedback to autism_teacher. Press enter to skip and use auto-reply, or type 'exit' to end the conversation: 我觉着你说的很对\n",
      "\u001b[33muser_proxy_admin\u001b[0m (to autism_teacher):\n",
      "\n",
      "我觉着你说的很对\n",
      "\n",
      "--------------------------------------------------------------------------------\n",
      "\u001b[33mautism_teacher\u001b[0m (to user_proxy_admin):\n",
      "\n",
      "(用户对提供的策略感到认同，这表明他们对于尝试新的社交技巧持开放态度。接下来，我应该继续提供鼓励，并且可能的话，给出更多具体的策略或建议，帮助他们在社交互动中感到更加自信。)\n",
      "\n",
      "【太棒了！记住，每个人在开始时都可能会感到有点紧张，但是通过实践，你会变得越来越自信。你已经做得很好了，愿意尝试和学习，这就是成长的一部分。如果你有任何问题，或者想分享你的经历，我都在这里听你说。一起进步，一起成长，你做得到！】\n",
      "\n",
      "--------------------------------------------------------------------------------\n",
      "Provide feedback to autism_teacher. Press enter to skip and use auto-reply, or type 'exit' to end the conversation: exit\n"
     ]
    },
    {
     "data": {
      "text/plain": [
       "ChatResult(chat_id=None, chat_history=[{'content': '社交困难型', 'role': 'assistant'}, {'content': '(了解到用户选择了社交交往困难的儿童类型，我需要以简单、鼓励的方式来帮助这些儿童在模拟的社交场景中提高他们的社交技巧。这要求我使用简短而具体的问题和建议，帮助他们理解和练习社交互动的基本原则。)\\n\\n【嘿，今天我们来聊聊在公园玩的时候，如果你看到其他孩子在玩你感兴趣的游戏，你会怎么做呢？是靠近他们观察还是尝试加入他们？如果你想加入，你可以向他们微笑并问：“我可以和你们一起玩吗？”记住，微笑是一个很好的开始。】', 'role': 'user'}, {'content': '我会先看看', 'role': 'assistant'}, {'content': '(明白了，用户选择了先观察的方式。这是一个很自然的反应，特别是对于社交交往有困难的孩子来说。我要鼓励他们观察是好的第一步，同时也要引导他们了解，当他们准备好时，如何采取下一步行动，渐渐地加入到游戏中去。)\\n\\n【看看是个好主意！这样你可以学习游戏规则，也可以找到合适的时机加入他们。观察的时候，你可以注意他们是怎么交流的，用的是什么样的词或者动作。当你感觉准备好了，记得用我们刚才说的那句话尝试加入。还有，如果有人回应你，记得用眼神联系和微笑，这样可以让大家感觉更加舒服哦。你觉得这样做，你可以试试吗？】', 'role': 'user'}, {'content': '我可以的', 'role': 'assistant'}, {'content': '(看来用户感觉更自信一些了，愿意尝试加入游戏。这是一个很好的进步！接下来，我需要鼓励他，并给予一些具体的建议，以帮助他在实际尝试加入游戏时更加自在和成功。)\\n\\n【太好了！我真的很高兴听到你愿意尝试。记得，没有人每次都能完美地做到一切，如果第一次不如意，也完全没有关系。最重要的是你尝试了，每一次尝试都是一次学习和成长的机会。也许你还可以事先想几个简单的话题或问题，如果游戏中出现了沉默的时刻，你可以用它们来和别的孩子聊天。比如说：“你最喜欢这个游戏的哪个部分？”或者“你还知道类似的游戏吗？”这样可以帮助你和其他孩子建立更好的联系。你觉得这个主意怎么样？】', 'role': 'user'}, {'content': '我觉着你说的很对', 'role': 'assistant'}, {'content': '(用户对提供的策略感到认同，这表明他们对于尝试新的社交技巧持开放态度。接下来，我应该继续提供鼓励，并且可能的话，给出更多具体的策略或建议，帮助他们在社交互动中感到更加自信。)\\n\\n【太棒了！记住，每个人在开始时都可能会感到有点紧张，但是通过实践，你会变得越来越自信。你已经做得很好了，愿意尝试和学习，这就是成长的一部分。如果你有任何问题，或者想分享你的经历，我都在这里听你说。一起进步，一起成长，你做得到！】', 'role': 'user'}], summary='(用户对提供的策略感到认同，这表明他们对于尝试新的社交技巧持开放态度。接下来，我应该继续提供鼓励，并且可能的话，给出更多具体的策略或建议，帮助他们在社交互动中感到更加自信。)\\n\\n【太棒了！记住，每个人在开始时都可能会感到有点紧张，但是通过实践，你会变得越来越自信。你已经做得很好了，愿意尝试和学习，这就是成长的一部分。如果你有任何问题，或者想分享你的经历，我都在这里听你说。一起进步，一起成长，你做得到！】', cost=({'total_cost': 0.30461, 'gpt-4-0125-preview': {'cost': 0.30461, 'prompt_tokens': 18611, 'completion_tokens': 3950, 'total_tokens': 22449}}, {'total_cost': 0.28978, 'gpt-4-0125-preview': {'cost': 0.28978, 'prompt_tokens': 17827, 'completion_tokens': 3717, 'total_tokens': 21439}}), human_input=['我会先看看', '我可以的', '我觉着你说的很对', 'exit'])"
      ]
     },
     "execution_count": 7,
     "metadata": {},
     "output_type": "execute_result"
    }
   ],
   "source": [
    "import config\n",
    "from agents import assistant, user_proxy_admin, user_proxy_terminate, user_proxy\n",
    "\n",
    "user_proxy_admin.initiate_chat(\n",
    "        autism_teacher,\n",
    "        message=\"社交困难型\",\n",
    "        #message=\"最近半年有哪些MultiAgent的开源框架比较著名，这些框架各自的特点是什么。\",\n",
    "        #message='tell me the news of MultiAgent.'\n",
    "        )"
   ]
  },
  {
   "cell_type": "code",
   "execution_count": 3,
   "id": "f37b3a5d",
   "metadata": {},
   "outputs": [],
   "source": [
    "import config\n",
    "import autogen\n",
    "from agents import user_proxy_autism, autism_teacher, autism_child, llm_func_config_gpt\n",
    "\n",
    "groupchat = autogen.GroupChat(agents=[user_proxy_autism, autism_teacher, autism_child], messages=[], max_round=12)\n",
    "manager = autogen.GroupChatManager(groupchat=groupchat, llm_config=llm_func_config_gpt)"
   ]
  },
  {
   "cell_type": "code",
   "execution_count": 5,
   "id": "156bc2cb",
   "metadata": {},
   "outputs": [
    {
     "data": {
      "text/plain": [
       "{'timeout': 1000,\n",
       " 'seed': 42,\n",
       " 'config_list': [{'model': 'gpt-4-0125-preview',\n",
       "   'base_url': 'https://gptgod.online/api/v1',\n",
       "   'api_type': 'open_ai',\n",
       "   'api_key': 'sk-2CKHg2AXZdFqchl18m8zEUFlVBT9lVVZIOwTBIRZQjnZgWZR'}],\n",
       " 'temperature': 0.7,\n",
       " 'max_tokens': 1024}"
      ]
     },
     "execution_count": 5,
     "metadata": {},
     "output_type": "execute_result"
    }
   ],
   "source": [
    "llm_func_config_gpt"
   ]
  },
  {
   "cell_type": "code",
   "execution_count": null,
   "id": "620298c8",
   "metadata": {
    "scrolled": false
   },
   "outputs": [
    {
     "name": "stderr",
     "output_type": "stream",
     "text": [
      "No default IOStream has been set, defaulting to IOConsole.\n",
      "No default IOStream has been set, defaulting to IOConsole.\n",
      "No default IOStream has been set, defaulting to IOConsole.\n",
      "No default IOStream has been set, defaulting to IOConsole.\n",
      "No default IOStream has been set, defaulting to IOConsole.\n"
     ]
    },
    {
     "name": "stdout",
     "output_type": "stream",
     "text": [
      "\u001b[33muser_proxy_autism\u001b[0m (to chat_manager):\n",
      "\n",
      "社交困难型\n",
      "\n",
      "--------------------------------------------------------------------------------\n"
     ]
    },
    {
     "name": "stderr",
     "output_type": "stream",
     "text": [
      "No default IOStream has been set, defaulting to IOConsole.\n",
      "No default IOStream has been set, defaulting to IOConsole.\n",
      "No default IOStream has been set, defaulting to IOConsole.\n",
      "No default IOStream has been set, defaulting to IOConsole.\n"
     ]
    },
    {
     "name": "stdout",
     "output_type": "stream",
     "text": [
      "\u001b[33mautism_teacher\u001b[0m (to chat_manager):\n",
      "\n",
      "如果你今天去公园玩，看到有些孩子在玩捉迷藏，你会想加入他们吗？如果有人不知道怎么玩，你觉得你能向他解释游戏的规则吗？\n",
      "\n",
      "--------------------------------------------------------------------------------\n"
     ]
    },
    {
     "name": "stderr",
     "output_type": "stream",
     "text": [
      "No default IOStream has been set, defaulting to IOConsole.\n",
      "GroupChat select_speaker failed to resolve the next speaker's name. This is because the speaker selection OAI call returned:\n",
      "autismautism_child_child\n",
      "No default IOStream has been set, defaulting to IOConsole.\n",
      "No default IOStream has been set, defaulting to IOConsole.\n",
      "No default IOStream has been set, defaulting to IOConsole.\n"
     ]
    },
    {
     "name": "stdout",
     "output_type": "stream",
     "text": [
      "\u001b[33mautism_child\u001b[0m (to chat_manager):\n",
      "\n",
      "【不知道。】(他们好像很开心，但我不知道怎么加入他们。解释游戏规则好像很难，我不确定我能做到。)\n",
      "\n",
      "--------------------------------------------------------------------------------\n"
     ]
    },
    {
     "name": "stderr",
     "output_type": "stream",
     "text": [
      "No default IOStream has been set, defaulting to IOConsole.\n",
      "No default IOStream has been set, defaulting to IOConsole.\n",
      "No default IOStream has been set, defaulting to IOConsole.\n",
      "No default IOStream has been set, defaulting to IOConsole.\n"
     ]
    },
    {
     "name": "stdout",
     "output_type": "stream",
     "text": [
      "\u001b[33mautism_teacher\u001b[0m (to chat_manager):\n",
      "\n",
      "看到他们玩得开心，你也想体验同样的快乐，这很自然。加入他们的一个简单方式是，先靠近一些，然后微笑或挥手，表示你对游戏感兴趣。如果有人注意到你并邀请你，你可以简单地说“我可以一起玩吗？”关于解释规则，不需要压力。你可以先试着玩几次，熟悉了游戏后，你可能就会发现向别人解释它没有想象中那么难。一步一步来，不急。\n",
      "\n",
      "--------------------------------------------------------------------------------\n"
     ]
    },
    {
     "name": "stderr",
     "output_type": "stream",
     "text": [
      "No default IOStream has been set, defaulting to IOConsole.\n",
      "No default IOStream has been set, defaulting to IOConsole.\n",
      "No default IOStream has been set, defaulting to IOConsole.\n",
      "No default IOStream has been set, defaulting to IOConsole.\n"
     ]
    },
    {
     "name": "stdout",
     "output_type": "stream",
     "text": [
      "\u001b[33mautism_child\u001b[0m (to chat_manager):\n",
      "\n",
      "【可以试试。】(他们会注意到我吗？如果他们不理我怎么办？但是，如果我能玩，可能会很开心。)\n",
      "\n",
      "--------------------------------------------------------------------------------\n"
     ]
    },
    {
     "name": "stderr",
     "output_type": "stream",
     "text": [
      "No default IOStream has been set, defaulting to IOConsole.\n",
      "No default IOStream has been set, defaulting to IOConsole.\n",
      "No default IOStream has been set, defaulting to IOConsole.\n",
      "No default IOStream has been set, defaulting to IOConsole.\n"
     ]
    },
    {
     "name": "stdout",
     "output_type": "stream",
     "text": [
      "\u001b[33mautism_teacher\u001b[0m (to chat_manager):\n",
      "\n",
      "他们可能会注意到你，特别是如果你表现出对游戏的兴趣。如果他们没有立刻注意到或者邀请你，也不要气馁。你可以稍微大胆一点，靠近一些，然后用友好的声音问：“我可以加入你们玩吗？”很多时候，人们会很欢迎新朋友的加入。即使他们没有回应，记住这不是你的错，也许他们只是太专注于游戏了。重要的是你尝试了，这本身就是一大步。记得，每次尝试都会让你变得更加勇敢和自信。\n",
      "\n",
      "--------------------------------------------------------------------------------\n"
     ]
    },
    {
     "name": "stderr",
     "output_type": "stream",
     "text": [
      "No default IOStream has been set, defaulting to IOConsole.\n",
      "No default IOStream has been set, defaulting to IOConsole.\n",
      "No default IOStream has been set, defaulting to IOConsole.\n",
      "No default IOStream has been set, defaulting to IOConsole.\n"
     ]
    },
    {
     "name": "stdout",
     "output_type": "stream",
     "text": [
      "\u001b[33mautism_child\u001b[0m (to chat_manager):\n",
      "\n",
      "【好的，我可以试试问。】(我真的很希望他们说可以。如果他们说不可以，我会很难过。但我想我可以试试。)\n",
      "\n",
      "--------------------------------------------------------------------------------\n"
     ]
    },
    {
     "name": "stderr",
     "output_type": "stream",
     "text": [
      "No default IOStream has been set, defaulting to IOConsole.\n",
      "No default IOStream has been set, defaulting to IOConsole.\n",
      "No default IOStream has been set, defaulting to IOConsole.\n",
      "No default IOStream has been set, defaulting to IOConsole.\n"
     ]
    },
    {
     "name": "stdout",
     "output_type": "stream",
     "text": [
      "\u001b[33mautism_teacher\u001b[0m (to chat_manager):\n",
      "\n",
      "那真是太好了，勇敢地迈出那一步本身就是一种成功。记住，无论他们的回答是什么，你都已经做得很棒了，因为你尝试去改变和提高自己。如果他们欢迎你，那将是一个很好的机会来学习和享受游戏。如果他们说不，那也没关系，世界上还有很多其他的机会和游戏等着你。最重要的是，你对自己的尝试感到骄傲。每次尝试都是向前迈出的一步。\n",
      "\n",
      "--------------------------------------------------------------------------------\n"
     ]
    },
    {
     "name": "stderr",
     "output_type": "stream",
     "text": [
      "No default IOStream has been set, defaulting to IOConsole.\n",
      "No default IOStream has been set, defaulting to IOConsole.\n",
      "No default IOStream has been set, defaulting to IOConsole.\n",
      "No default IOStream has been set, defaulting to IOConsole.\n"
     ]
    },
    {
     "name": "stdout",
     "output_type": "stream",
     "text": [
      "\u001b[33mautism_teacher\u001b[0m (to chat_manager):\n",
      "\n",
      "如果你感觉难过或失望，记得这是正常的感受，我们都会经历。可以找一个安静的地方坐一会儿，深呼吸，想想其他让你开心的事情。或者，你可以尝试找另一个游戏或活动参加。每个人都有被拒绝的时候，重要的是怎样面对和从中学习。你做得很好，勇于尝试和提出问题。\n",
      "\n",
      "--------------------------------------------------------------------------------\n"
     ]
    },
    {
     "name": "stderr",
     "output_type": "stream",
     "text": [
      "No default IOStream has been set, defaulting to IOConsole.\n",
      "No default IOStream has been set, defaulting to IOConsole.\n",
      "No default IOStream has been set, defaulting to IOConsole.\n",
      "No default IOStream has been set, defaulting to IOConsole.\n"
     ]
    },
    {
     "name": "stdout",
     "output_type": "stream",
     "text": [
      "\u001b[33mautism_child\u001b[0m (to chat_manager):\n",
      "\n",
      "【好的，我记住了。】(如果我难过，我可以试着做些别的事情让自己开心。我还可以再试试别的游戏。)\n",
      "\n",
      "--------------------------------------------------------------------------------\n"
     ]
    },
    {
     "name": "stderr",
     "output_type": "stream",
     "text": [
      "No default IOStream has been set, defaulting to IOConsole.\n",
      "No default IOStream has been set, defaulting to IOConsole.\n",
      "No default IOStream has been set, defaulting to IOConsole.\n",
      "No default IOStream has been set, defaulting to IOConsole.\n"
     ]
    },
    {
     "name": "stdout",
     "output_type": "stream",
     "text": [
      "\u001b[33mautism_child\u001b[0m (to chat_manager):\n",
      "\n",
      "你已经掌握了很重要的一点，那就是面对困难和挫折时，有很多种方式可以帮助自己感觉更好。记得，每个人都有自己的节奏和时间去适应新事物，勇于尝试就是很大的进步。\n",
      "\n",
      "--------------------------------------------------------------------------------\n"
     ]
    },
    {
     "name": "stderr",
     "output_type": "stream",
     "text": [
      "No default IOStream has been set, defaulting to IOConsole.\n",
      "No default IOStream has been set, defaulting to IOConsole.\n",
      "No default IOStream has been set, defaulting to IOConsole.\n",
      "No default IOStream has been set, defaulting to IOConsole.\n"
     ]
    },
    {
     "name": "stdout",
     "output_type": "stream",
     "text": [
      "\u001b[33mautism_child\u001b[0m (to chat_manager):\n",
      "\n",
      "你已经掌握了很重要的一点，那就是面对困难和挫折时，有很多种方式可以帮助自己感觉更好。记得，每个人都有自己的节奏和时间去适应新事物，勇于尝试就是很大的进步。\n",
      "\n",
      "--------------------------------------------------------------------------------\n"
     ]
    },
    {
     "name": "stderr",
     "output_type": "stream",
     "text": [
      "No default IOStream has been set, defaulting to IOConsole.\n",
      "No default IOStream has been set, defaulting to IOConsole.\n"
     ]
    }
   ],
   "source": [
    "user_proxy_autism.initiate_chat(\n",
    "    manager, message=\"社交困难型\",\n",
    "    max_turns=10\n",
    ")"
   ]
  },
  {
   "cell_type": "code",
   "execution_count": 3,
   "id": "09e043a6",
   "metadata": {
    "scrolled": true
   },
   "outputs": [
    {
     "name": "stdout",
     "output_type": "stream",
     "text": [
      "\u001b[33muser_proxy_admin\u001b[0m (to chat_manager):\n",
      "\n",
      "高功能型\n",
      "\n",
      "--------------------------------------------------------------------------------\n",
      "\u001b[33mautism_teacher\u001b[0m (to chat_manager):\n",
      "\n",
      "(既然用户选择了高功能型自闭症儿童，那我就会以这种类型的陪聊老师的身份来进行对话。目标是鼓励孩子通过讨论他们的兴趣来增强语言沟通能力和社交技能。我需要找到一个他们可能感兴趣的话题，并确保对话简洁、有趣。)\n",
      "\n",
      "【嘿，今天我们来聊聊你最感兴趣的事情吧。你是更喜欢恐龙、宇宙，还是对编程特别感兴趣？讲讲看，有什么是特别吸引你的，或者我们可以一起探索一个有关你感兴趣的话题的谜题。】\n",
      "\n",
      "--------------------------------------------------------------------------------\n",
      "\u001b[33mautism_child\u001b[0m (to chat_manager):\n",
      "\n",
      "【我...我喜欢宇宙。宇宙很大，有很多星星。】(我不知道他们是否真的想听我说这些。但宇宙真的很有趣，我希望他们能喜欢。)\n",
      "\n",
      "--------------------------------------------------------------------------------\n",
      "\u001b[33mautism_teacher\u001b[0m (to chat_manager):\n",
      "\n",
      "(看来宇宙能够激起孩子的兴趣，这是一个很好的切入点。下一步，我可以通过提问或共享知识的方式，进一步引导对话，同时确保保持简洁明了，以适应孩子的交流喜好。)\n",
      "\n",
      "【宇宙确实非常神奇和广阔，每一个星星都像是一个小小的秘密等待我们去发现。你有最喜欢的星星或是行星吗？比如说，很多人都很喜欢火星，因为人们希望有一天能在那里建立家园。我们也可以谈谈黑洞，它们是宇宙中非常神秘的存在。你对这些有兴趣吗？】\n",
      "\n",
      "--------------------------------------------------------------------------------\n",
      "\u001b[33mautism_child\u001b[0m (to chat_manager):\n",
      "\n",
      "【火星...火星很红，很有趣。我...我也听说过黑洞，它们吞噬一切，连光都逃不掉。】(火星和黑洞，我从书上读到过，但不知道怎么更好地表达我对它们的兴趣。我希望能了解更多，也希望对方不会觉得我说得太少。)\n",
      "\n",
      "--------------------------------------------------------------------------------\n",
      "\u001b[33mautism_teacher\u001b[0m (to chat_manager):\n",
      "\n",
      "(孩子提到了火星和黑洞，这是绝佳的机会深入探讨，同时鼓励他们分享更多的想法。我要保持语言简单明了，同时尽量提供有趣的信息，激发他们的好奇心和探索欲。)\n",
      "\n",
      "【说得真好！火星因为它的红色外表而特别，被称为“红色行星”。你知道吗？科学家们正在研究如何在火星上生活，甚至种植植物，这样未来的人类可以在那里建立家园。至于黑洞，它们确实非常神秘，吞噬一切，连光也不能逃脱。但这也让它们成为了宇宙中最有趣的谜之一。想象一下，黑洞的中心是什么样的？科学家们还在试图解开这个谜题呢。\n",
      "\n",
      "你有没有想过自己成为一名宇宙探险者，去探索火星或是研究黑洞？或者有没有其他的宇宙现象让你感到好奇的？】(通过提问和提供信息，鼓励孩子分享更多关于他们对宇宙的兴趣和好奇心。同时，提供一个想象空间，让他们能够想象自己在宇宙探索的角色，增强他们的参与感和兴趣。)\n",
      "\n",
      "--------------------------------------------------------------------------------\n",
      "\u001b[33mautism_child\u001b[0m (to chat_manager):\n",
      "\n",
      "【我...我想成为宇宙探险者。探索火星，看看黑洞。我还想知道，宇宙的边界在哪里。宇宙是不是真的无限大？】(我真的很想知道更多关于宇宙的事情。成为宇宙探险者听起来很酷，但我不确定我能不能做到。我希望能学到更多，也希望他们能帮助我理解这些复杂的问题。)\n",
      "\n",
      "--------------------------------------------------------------------------------\n",
      "\u001b[33mautism_teacher\u001b[0m (to chat_manager):\n",
      "\n",
      "(孩子表达了成为宇宙探险者的愿望，这是一个很好的机会来激励他们对学习和探索的热情。同时，他们提出的问题关于宇宙的边界和无限性是深刻的，我需要以简单而鼓舞人心的方式回应，从而激发他们的好奇心和探索欲。)\n",
      "\n",
      "【成为宇宙探险者是一个非常酷的梦想！探索火星和黑洞，甚至想知道宇宙的边界在哪里，这些都是非常大的问题和冒险。关于宇宙是否无限大，科学家们至今仍在研究和探索。有一些理论认为宇宙可能是无限的，而其他理论则提出了宇宙可能有边界的想法。但不管怎样，每一点我们学到的新知识都让我们更接近于理解这个宏大的宇宙。\n",
      "\n",
      "你的好奇心和问题都是成为一名出色的探险者的重要部分。记得，每一个伟大的科学家和探险者都是从好奇开始的。通过学习、提问和探索，你可以发现宇宙中令人惊叹的秘密。不要担心问题是否复杂，每一个问题都是探索旅程的一部分。\n",
      "\n",
      "你还有其他关于宇宙的问题或者是想了解的现象吗？或者有没有一些特别想了解的宇宙故事或探险者？】(通过鼓励和肯定孩子的好奇心和梦想，我希望能进一步激发他们对宇宙探索的热情。同时，提供适当的信息和思考问题的方式，帮助他们感受到学习和探索的乐趣。)\n",
      "\n",
      "--------------------------------------------------------------------------------\n",
      "\u001b[33mautism_child\u001b[0m (to chat_manager):\n",
      "\n",
      "【宇宙故事...我想听听宇宙探险者的故事。他们是怎么成为探险者的，他们发现了什么？宇宙里有没有生命，除了地球？】(我总是想象自己在宇宙中飞行，发现新的星球和生命。听别人的探险故事，让我感觉自己也在那些旅程中。我希望有一天我也能有自己的故事。)\n",
      "\n",
      "--------------------------------------------------------------------------------\n"
     ]
    },
    {
     "ename": "PermissionDeniedError",
     "evalue": "Error code: 403 - {'code': -14, 'msg': '剩余积分不足', 'sn': 'bebe65c8a25de70331c7bc341cdf3a09'}",
     "output_type": "error",
     "traceback": [
      "\u001b[0;31m---------------------------------------------------------------------------\u001b[0m",
      "\u001b[0;31mPermissionDeniedError\u001b[0m                     Traceback (most recent call last)",
      "Cell \u001b[0;32mIn[3], line 1\u001b[0m\n\u001b[0;32m----> 1\u001b[0m user_proxy_admin\u001b[38;5;241m.\u001b[39minitiate_chat(\n\u001b[1;32m      2\u001b[0m     manager, message\u001b[38;5;241m=\u001b[39m\u001b[38;5;124m\"\u001b[39m\u001b[38;5;124m高功能型\u001b[39m\u001b[38;5;124m\"\u001b[39m,\n\u001b[1;32m      3\u001b[0m     max_turns\u001b[38;5;241m=\u001b[39m\u001b[38;5;241m10\u001b[39m\n\u001b[1;32m      4\u001b[0m )\n",
      "File \u001b[0;32m~/Tools/anaconda3/lib/python3.11/site-packages/autogen/agentchat/conversable_agent.py:910\u001b[0m, in \u001b[0;36mConversableAgent.initiate_chat\u001b[0;34m(self, recipient, clear_history, silent, cache, max_turns, **context)\u001b[0m\n\u001b[1;32m    908\u001b[0m         \u001b[38;5;28;01mif\u001b[39;00m msg2send \u001b[38;5;129;01mis\u001b[39;00m \u001b[38;5;28;01mNone\u001b[39;00m:\n\u001b[1;32m    909\u001b[0m             \u001b[38;5;28;01mbreak\u001b[39;00m\n\u001b[0;32m--> 910\u001b[0m         \u001b[38;5;28mself\u001b[39m\u001b[38;5;241m.\u001b[39msend(msg2send, recipient, request_reply\u001b[38;5;241m=\u001b[39m\u001b[38;5;28;01mTrue\u001b[39;00m, silent\u001b[38;5;241m=\u001b[39msilent)\n\u001b[1;32m    911\u001b[0m \u001b[38;5;28;01melse\u001b[39;00m:\n\u001b[1;32m    912\u001b[0m     \u001b[38;5;28mself\u001b[39m\u001b[38;5;241m.\u001b[39m_prepare_chat(recipient, clear_history)\n",
      "File \u001b[0;32m~/Tools/anaconda3/lib/python3.11/site-packages/autogen/agentchat/conversable_agent.py:605\u001b[0m, in \u001b[0;36mConversableAgent.send\u001b[0;34m(self, message, recipient, request_reply, silent)\u001b[0m\n\u001b[1;32m    603\u001b[0m valid \u001b[38;5;241m=\u001b[39m \u001b[38;5;28mself\u001b[39m\u001b[38;5;241m.\u001b[39m_append_oai_message(message, \u001b[38;5;124m\"\u001b[39m\u001b[38;5;124massistant\u001b[39m\u001b[38;5;124m\"\u001b[39m, recipient)\n\u001b[1;32m    604\u001b[0m \u001b[38;5;28;01mif\u001b[39;00m valid:\n\u001b[0;32m--> 605\u001b[0m     recipient\u001b[38;5;241m.\u001b[39mreceive(message, \u001b[38;5;28mself\u001b[39m, request_reply, silent)\n\u001b[1;32m    606\u001b[0m \u001b[38;5;28;01melse\u001b[39;00m:\n\u001b[1;32m    607\u001b[0m     \u001b[38;5;28;01mraise\u001b[39;00m \u001b[38;5;167;01mValueError\u001b[39;00m(\n\u001b[1;32m    608\u001b[0m         \u001b[38;5;124m\"\u001b[39m\u001b[38;5;124mMessage can\u001b[39m\u001b[38;5;124m'\u001b[39m\u001b[38;5;124mt be converted into a valid ChatCompletion message. Either content or function_call must be provided.\u001b[39m\u001b[38;5;124m\"\u001b[39m\n\u001b[1;32m    609\u001b[0m     )\n",
      "File \u001b[0;32m~/Tools/anaconda3/lib/python3.11/site-packages/autogen/agentchat/conversable_agent.py:767\u001b[0m, in \u001b[0;36mConversableAgent.receive\u001b[0;34m(self, message, sender, request_reply, silent)\u001b[0m\n\u001b[1;32m    765\u001b[0m \u001b[38;5;28;01mif\u001b[39;00m request_reply \u001b[38;5;129;01mis\u001b[39;00m \u001b[38;5;28;01mFalse\u001b[39;00m \u001b[38;5;129;01mor\u001b[39;00m request_reply \u001b[38;5;129;01mis\u001b[39;00m \u001b[38;5;28;01mNone\u001b[39;00m \u001b[38;5;129;01mand\u001b[39;00m \u001b[38;5;28mself\u001b[39m\u001b[38;5;241m.\u001b[39mreply_at_receive[sender] \u001b[38;5;129;01mis\u001b[39;00m \u001b[38;5;28;01mFalse\u001b[39;00m:\n\u001b[1;32m    766\u001b[0m     \u001b[38;5;28;01mreturn\u001b[39;00m\n\u001b[0;32m--> 767\u001b[0m reply \u001b[38;5;241m=\u001b[39m \u001b[38;5;28mself\u001b[39m\u001b[38;5;241m.\u001b[39mgenerate_reply(messages\u001b[38;5;241m=\u001b[39m\u001b[38;5;28mself\u001b[39m\u001b[38;5;241m.\u001b[39mchat_messages[sender], sender\u001b[38;5;241m=\u001b[39msender)\n\u001b[1;32m    768\u001b[0m \u001b[38;5;28;01mif\u001b[39;00m reply \u001b[38;5;129;01mis\u001b[39;00m \u001b[38;5;129;01mnot\u001b[39;00m \u001b[38;5;28;01mNone\u001b[39;00m:\n\u001b[1;32m    769\u001b[0m     \u001b[38;5;28mself\u001b[39m\u001b[38;5;241m.\u001b[39msend(reply, sender, silent\u001b[38;5;241m=\u001b[39msilent)\n",
      "File \u001b[0;32m~/Tools/anaconda3/lib/python3.11/site-packages/autogen/agentchat/conversable_agent.py:1740\u001b[0m, in \u001b[0;36mConversableAgent.generate_reply\u001b[0;34m(self, messages, sender, **kwargs)\u001b[0m\n\u001b[1;32m   1738\u001b[0m     \u001b[38;5;28;01mcontinue\u001b[39;00m\n\u001b[1;32m   1739\u001b[0m \u001b[38;5;28;01mif\u001b[39;00m \u001b[38;5;28mself\u001b[39m\u001b[38;5;241m.\u001b[39m_match_trigger(reply_func_tuple[\u001b[38;5;124m\"\u001b[39m\u001b[38;5;124mtrigger\u001b[39m\u001b[38;5;124m\"\u001b[39m], sender):\n\u001b[0;32m-> 1740\u001b[0m     final, reply \u001b[38;5;241m=\u001b[39m reply_func(\u001b[38;5;28mself\u001b[39m, messages\u001b[38;5;241m=\u001b[39mmessages, sender\u001b[38;5;241m=\u001b[39msender, config\u001b[38;5;241m=\u001b[39mreply_func_tuple[\u001b[38;5;124m\"\u001b[39m\u001b[38;5;124mconfig\u001b[39m\u001b[38;5;124m\"\u001b[39m])\n\u001b[1;32m   1741\u001b[0m     \u001b[38;5;28;01mif\u001b[39;00m final:\n\u001b[1;32m   1742\u001b[0m         \u001b[38;5;28;01mreturn\u001b[39;00m reply\n",
      "File \u001b[0;32m~/Tools/anaconda3/lib/python3.11/site-packages/autogen/agentchat/groupchat.py:575\u001b[0m, in \u001b[0;36mGroupChatManager.run_chat\u001b[0;34m(self, messages, sender, config)\u001b[0m\n\u001b[1;32m    572\u001b[0m     \u001b[38;5;28;01mbreak\u001b[39;00m\n\u001b[1;32m    573\u001b[0m \u001b[38;5;28;01mtry\u001b[39;00m:\n\u001b[1;32m    574\u001b[0m     \u001b[38;5;66;03m# select the next speaker\u001b[39;00m\n\u001b[0;32m--> 575\u001b[0m     speaker \u001b[38;5;241m=\u001b[39m groupchat\u001b[38;5;241m.\u001b[39mselect_speaker(speaker, \u001b[38;5;28mself\u001b[39m)\n\u001b[1;32m    576\u001b[0m     \u001b[38;5;66;03m# let the speaker speak\u001b[39;00m\n\u001b[1;32m    577\u001b[0m     reply \u001b[38;5;241m=\u001b[39m speaker\u001b[38;5;241m.\u001b[39mgenerate_reply(sender\u001b[38;5;241m=\u001b[39m\u001b[38;5;28mself\u001b[39m)\n",
      "File \u001b[0;32m~/Tools/anaconda3/lib/python3.11/site-packages/autogen/agentchat/groupchat.py:395\u001b[0m, in \u001b[0;36mGroupChat.select_speaker\u001b[0;34m(self, last_speaker, selector)\u001b[0m\n\u001b[1;32m    393\u001b[0m \u001b[38;5;66;03m# auto speaker selection\u001b[39;00m\n\u001b[1;32m    394\u001b[0m selector\u001b[38;5;241m.\u001b[39mupdate_system_message(\u001b[38;5;28mself\u001b[39m\u001b[38;5;241m.\u001b[39mselect_speaker_msg(agents))\n\u001b[0;32m--> 395\u001b[0m final, name \u001b[38;5;241m=\u001b[39m selector\u001b[38;5;241m.\u001b[39mgenerate_oai_reply(messages)\n\u001b[1;32m    396\u001b[0m \u001b[38;5;28;01mreturn\u001b[39;00m \u001b[38;5;28mself\u001b[39m\u001b[38;5;241m.\u001b[39m_finalize_speaker(last_speaker, final, name, agents)\n",
      "File \u001b[0;32m~/Tools/anaconda3/lib/python3.11/site-packages/autogen/agentchat/conversable_agent.py:1156\u001b[0m, in \u001b[0;36mConversableAgent.generate_oai_reply\u001b[0;34m(self, messages, sender, config)\u001b[0m\n\u001b[1;32m   1154\u001b[0m \u001b[38;5;28;01mif\u001b[39;00m messages \u001b[38;5;129;01mis\u001b[39;00m \u001b[38;5;28;01mNone\u001b[39;00m:\n\u001b[1;32m   1155\u001b[0m     messages \u001b[38;5;241m=\u001b[39m \u001b[38;5;28mself\u001b[39m\u001b[38;5;241m.\u001b[39m_oai_messages[sender]\n\u001b[0;32m-> 1156\u001b[0m extracted_response \u001b[38;5;241m=\u001b[39m \u001b[38;5;28mself\u001b[39m\u001b[38;5;241m.\u001b[39m_generate_oai_reply_from_client(\n\u001b[1;32m   1157\u001b[0m     client, \u001b[38;5;28mself\u001b[39m\u001b[38;5;241m.\u001b[39m_oai_system_message \u001b[38;5;241m+\u001b[39m messages, \u001b[38;5;28mself\u001b[39m\u001b[38;5;241m.\u001b[39mclient_cache\n\u001b[1;32m   1158\u001b[0m )\n\u001b[1;32m   1159\u001b[0m \u001b[38;5;28;01mreturn\u001b[39;00m (\u001b[38;5;28;01mFalse\u001b[39;00m, \u001b[38;5;28;01mNone\u001b[39;00m) \u001b[38;5;28;01mif\u001b[39;00m extracted_response \u001b[38;5;129;01mis\u001b[39;00m \u001b[38;5;28;01mNone\u001b[39;00m \u001b[38;5;28;01melse\u001b[39;00m (\u001b[38;5;28;01mTrue\u001b[39;00m, extracted_response)\n",
      "File \u001b[0;32m~/Tools/anaconda3/lib/python3.11/site-packages/autogen/agentchat/conversable_agent.py:1175\u001b[0m, in \u001b[0;36mConversableAgent._generate_oai_reply_from_client\u001b[0;34m(self, llm_client, messages, cache)\u001b[0m\n\u001b[1;32m   1172\u001b[0m         all_messages\u001b[38;5;241m.\u001b[39mappend(message)\n\u001b[1;32m   1174\u001b[0m \u001b[38;5;66;03m# TODO: #1143 handle token limit exceeded error\u001b[39;00m\n\u001b[0;32m-> 1175\u001b[0m response \u001b[38;5;241m=\u001b[39m llm_client\u001b[38;5;241m.\u001b[39mcreate(\n\u001b[1;32m   1176\u001b[0m     context\u001b[38;5;241m=\u001b[39mmessages[\u001b[38;5;241m-\u001b[39m\u001b[38;5;241m1\u001b[39m]\u001b[38;5;241m.\u001b[39mpop(\u001b[38;5;124m\"\u001b[39m\u001b[38;5;124mcontext\u001b[39m\u001b[38;5;124m\"\u001b[39m, \u001b[38;5;28;01mNone\u001b[39;00m),\n\u001b[1;32m   1177\u001b[0m     messages\u001b[38;5;241m=\u001b[39mall_messages,\n\u001b[1;32m   1178\u001b[0m     cache\u001b[38;5;241m=\u001b[39mcache,\n\u001b[1;32m   1179\u001b[0m )\n\u001b[1;32m   1180\u001b[0m extracted_response \u001b[38;5;241m=\u001b[39m llm_client\u001b[38;5;241m.\u001b[39mextract_text_or_completion_object(response)[\u001b[38;5;241m0\u001b[39m]\n\u001b[1;32m   1182\u001b[0m \u001b[38;5;28;01mif\u001b[39;00m extracted_response \u001b[38;5;129;01mis\u001b[39;00m \u001b[38;5;28;01mNone\u001b[39;00m:\n",
      "File \u001b[0;32m~/Tools/anaconda3/lib/python3.11/site-packages/autogen/oai/client.py:624\u001b[0m, in \u001b[0;36mOpenAIWrapper.create\u001b[0;34m(self, **config)\u001b[0m\n\u001b[1;32m    622\u001b[0m \u001b[38;5;28;01mtry\u001b[39;00m:\n\u001b[1;32m    623\u001b[0m     request_ts \u001b[38;5;241m=\u001b[39m get_current_ts()\n\u001b[0;32m--> 624\u001b[0m     response \u001b[38;5;241m=\u001b[39m client\u001b[38;5;241m.\u001b[39mcreate(params)\n\u001b[1;32m    625\u001b[0m \u001b[38;5;28;01mexcept\u001b[39;00m APITimeoutError \u001b[38;5;28;01mas\u001b[39;00m err:\n\u001b[1;32m    626\u001b[0m     logger\u001b[38;5;241m.\u001b[39mdebug(\u001b[38;5;124mf\u001b[39m\u001b[38;5;124m\"\u001b[39m\u001b[38;5;124mconfig \u001b[39m\u001b[38;5;132;01m{\u001b[39;00mi\u001b[38;5;132;01m}\u001b[39;00m\u001b[38;5;124m timed out\u001b[39m\u001b[38;5;124m\"\u001b[39m, exc_info\u001b[38;5;241m=\u001b[39m\u001b[38;5;28;01mTrue\u001b[39;00m)\n",
      "File \u001b[0;32m~/Tools/anaconda3/lib/python3.11/site-packages/autogen/oai/client.py:278\u001b[0m, in \u001b[0;36mOpenAIClient.create\u001b[0;34m(self, params)\u001b[0m\n\u001b[1;32m    276\u001b[0m     params \u001b[38;5;241m=\u001b[39m params\u001b[38;5;241m.\u001b[39mcopy()\n\u001b[1;32m    277\u001b[0m     params[\u001b[38;5;124m\"\u001b[39m\u001b[38;5;124mstream\u001b[39m\u001b[38;5;124m\"\u001b[39m] \u001b[38;5;241m=\u001b[39m \u001b[38;5;28;01mFalse\u001b[39;00m\n\u001b[0;32m--> 278\u001b[0m     response \u001b[38;5;241m=\u001b[39m completions\u001b[38;5;241m.\u001b[39mcreate(\u001b[38;5;241m*\u001b[39m\u001b[38;5;241m*\u001b[39mparams)\n\u001b[1;32m    280\u001b[0m \u001b[38;5;28;01mreturn\u001b[39;00m response\n",
      "File \u001b[0;32m~/Tools/anaconda3/lib/python3.11/site-packages/openai/_utils/_utils.py:271\u001b[0m, in \u001b[0;36mrequired_args.<locals>.inner.<locals>.wrapper\u001b[0;34m(*args, **kwargs)\u001b[0m\n\u001b[1;32m    269\u001b[0m             msg \u001b[38;5;241m=\u001b[39m \u001b[38;5;124mf\u001b[39m\u001b[38;5;124m\"\u001b[39m\u001b[38;5;124mMissing required argument: \u001b[39m\u001b[38;5;132;01m{\u001b[39;00mquote(missing[\u001b[38;5;241m0\u001b[39m])\u001b[38;5;132;01m}\u001b[39;00m\u001b[38;5;124m\"\u001b[39m\n\u001b[1;32m    270\u001b[0m     \u001b[38;5;28;01mraise\u001b[39;00m \u001b[38;5;167;01mTypeError\u001b[39;00m(msg)\n\u001b[0;32m--> 271\u001b[0m \u001b[38;5;28;01mreturn\u001b[39;00m func(\u001b[38;5;241m*\u001b[39margs, \u001b[38;5;241m*\u001b[39m\u001b[38;5;241m*\u001b[39mkwargs)\n",
      "File \u001b[0;32m~/Tools/anaconda3/lib/python3.11/site-packages/openai/resources/chat/completions.py:648\u001b[0m, in \u001b[0;36mCompletions.create\u001b[0;34m(self, messages, model, frequency_penalty, function_call, functions, logit_bias, logprobs, max_tokens, n, presence_penalty, response_format, seed, stop, stream, temperature, tool_choice, tools, top_logprobs, top_p, user, extra_headers, extra_query, extra_body, timeout)\u001b[0m\n\u001b[1;32m    599\u001b[0m \u001b[38;5;129m@required_args\u001b[39m([\u001b[38;5;124m\"\u001b[39m\u001b[38;5;124mmessages\u001b[39m\u001b[38;5;124m\"\u001b[39m, \u001b[38;5;124m\"\u001b[39m\u001b[38;5;124mmodel\u001b[39m\u001b[38;5;124m\"\u001b[39m], [\u001b[38;5;124m\"\u001b[39m\u001b[38;5;124mmessages\u001b[39m\u001b[38;5;124m\"\u001b[39m, \u001b[38;5;124m\"\u001b[39m\u001b[38;5;124mmodel\u001b[39m\u001b[38;5;124m\"\u001b[39m, \u001b[38;5;124m\"\u001b[39m\u001b[38;5;124mstream\u001b[39m\u001b[38;5;124m\"\u001b[39m])\n\u001b[1;32m    600\u001b[0m \u001b[38;5;28;01mdef\u001b[39;00m \u001b[38;5;21mcreate\u001b[39m(\n\u001b[1;32m    601\u001b[0m     \u001b[38;5;28mself\u001b[39m,\n\u001b[0;32m   (...)\u001b[0m\n\u001b[1;32m    646\u001b[0m     timeout: \u001b[38;5;28mfloat\u001b[39m \u001b[38;5;241m|\u001b[39m httpx\u001b[38;5;241m.\u001b[39mTimeout \u001b[38;5;241m|\u001b[39m \u001b[38;5;28;01mNone\u001b[39;00m \u001b[38;5;241m|\u001b[39m NotGiven \u001b[38;5;241m=\u001b[39m NOT_GIVEN,\n\u001b[1;32m    647\u001b[0m ) \u001b[38;5;241m-\u001b[39m\u001b[38;5;241m>\u001b[39m ChatCompletion \u001b[38;5;241m|\u001b[39m Stream[ChatCompletionChunk]:\n\u001b[0;32m--> 648\u001b[0m     \u001b[38;5;28;01mreturn\u001b[39;00m \u001b[38;5;28mself\u001b[39m\u001b[38;5;241m.\u001b[39m_post(\n\u001b[1;32m    649\u001b[0m         \u001b[38;5;124m\"\u001b[39m\u001b[38;5;124m/chat/completions\u001b[39m\u001b[38;5;124m\"\u001b[39m,\n\u001b[1;32m    650\u001b[0m         body\u001b[38;5;241m=\u001b[39mmaybe_transform(\n\u001b[1;32m    651\u001b[0m             {\n\u001b[1;32m    652\u001b[0m                 \u001b[38;5;124m\"\u001b[39m\u001b[38;5;124mmessages\u001b[39m\u001b[38;5;124m\"\u001b[39m: messages,\n\u001b[1;32m    653\u001b[0m                 \u001b[38;5;124m\"\u001b[39m\u001b[38;5;124mmodel\u001b[39m\u001b[38;5;124m\"\u001b[39m: model,\n\u001b[1;32m    654\u001b[0m                 \u001b[38;5;124m\"\u001b[39m\u001b[38;5;124mfrequency_penalty\u001b[39m\u001b[38;5;124m\"\u001b[39m: frequency_penalty,\n\u001b[1;32m    655\u001b[0m                 \u001b[38;5;124m\"\u001b[39m\u001b[38;5;124mfunction_call\u001b[39m\u001b[38;5;124m\"\u001b[39m: function_call,\n\u001b[1;32m    656\u001b[0m                 \u001b[38;5;124m\"\u001b[39m\u001b[38;5;124mfunctions\u001b[39m\u001b[38;5;124m\"\u001b[39m: functions,\n\u001b[1;32m    657\u001b[0m                 \u001b[38;5;124m\"\u001b[39m\u001b[38;5;124mlogit_bias\u001b[39m\u001b[38;5;124m\"\u001b[39m: logit_bias,\n\u001b[1;32m    658\u001b[0m                 \u001b[38;5;124m\"\u001b[39m\u001b[38;5;124mlogprobs\u001b[39m\u001b[38;5;124m\"\u001b[39m: logprobs,\n\u001b[1;32m    659\u001b[0m                 \u001b[38;5;124m\"\u001b[39m\u001b[38;5;124mmax_tokens\u001b[39m\u001b[38;5;124m\"\u001b[39m: max_tokens,\n\u001b[1;32m    660\u001b[0m                 \u001b[38;5;124m\"\u001b[39m\u001b[38;5;124mn\u001b[39m\u001b[38;5;124m\"\u001b[39m: n,\n\u001b[1;32m    661\u001b[0m                 \u001b[38;5;124m\"\u001b[39m\u001b[38;5;124mpresence_penalty\u001b[39m\u001b[38;5;124m\"\u001b[39m: presence_penalty,\n\u001b[1;32m    662\u001b[0m                 \u001b[38;5;124m\"\u001b[39m\u001b[38;5;124mresponse_format\u001b[39m\u001b[38;5;124m\"\u001b[39m: response_format,\n\u001b[1;32m    663\u001b[0m                 \u001b[38;5;124m\"\u001b[39m\u001b[38;5;124mseed\u001b[39m\u001b[38;5;124m\"\u001b[39m: seed,\n\u001b[1;32m    664\u001b[0m                 \u001b[38;5;124m\"\u001b[39m\u001b[38;5;124mstop\u001b[39m\u001b[38;5;124m\"\u001b[39m: stop,\n\u001b[1;32m    665\u001b[0m                 \u001b[38;5;124m\"\u001b[39m\u001b[38;5;124mstream\u001b[39m\u001b[38;5;124m\"\u001b[39m: stream,\n\u001b[1;32m    666\u001b[0m                 \u001b[38;5;124m\"\u001b[39m\u001b[38;5;124mtemperature\u001b[39m\u001b[38;5;124m\"\u001b[39m: temperature,\n\u001b[1;32m    667\u001b[0m                 \u001b[38;5;124m\"\u001b[39m\u001b[38;5;124mtool_choice\u001b[39m\u001b[38;5;124m\"\u001b[39m: tool_choice,\n\u001b[1;32m    668\u001b[0m                 \u001b[38;5;124m\"\u001b[39m\u001b[38;5;124mtools\u001b[39m\u001b[38;5;124m\"\u001b[39m: tools,\n\u001b[1;32m    669\u001b[0m                 \u001b[38;5;124m\"\u001b[39m\u001b[38;5;124mtop_logprobs\u001b[39m\u001b[38;5;124m\"\u001b[39m: top_logprobs,\n\u001b[1;32m    670\u001b[0m                 \u001b[38;5;124m\"\u001b[39m\u001b[38;5;124mtop_p\u001b[39m\u001b[38;5;124m\"\u001b[39m: top_p,\n\u001b[1;32m    671\u001b[0m                 \u001b[38;5;124m\"\u001b[39m\u001b[38;5;124muser\u001b[39m\u001b[38;5;124m\"\u001b[39m: user,\n\u001b[1;32m    672\u001b[0m             },\n\u001b[1;32m    673\u001b[0m             completion_create_params\u001b[38;5;241m.\u001b[39mCompletionCreateParams,\n\u001b[1;32m    674\u001b[0m         ),\n\u001b[1;32m    675\u001b[0m         options\u001b[38;5;241m=\u001b[39mmake_request_options(\n\u001b[1;32m    676\u001b[0m             extra_headers\u001b[38;5;241m=\u001b[39mextra_headers, extra_query\u001b[38;5;241m=\u001b[39mextra_query, extra_body\u001b[38;5;241m=\u001b[39mextra_body, timeout\u001b[38;5;241m=\u001b[39mtimeout\n\u001b[1;32m    677\u001b[0m         ),\n\u001b[1;32m    678\u001b[0m         cast_to\u001b[38;5;241m=\u001b[39mChatCompletion,\n\u001b[1;32m    679\u001b[0m         stream\u001b[38;5;241m=\u001b[39mstream \u001b[38;5;129;01mor\u001b[39;00m \u001b[38;5;28;01mFalse\u001b[39;00m,\n\u001b[1;32m    680\u001b[0m         stream_cls\u001b[38;5;241m=\u001b[39mStream[ChatCompletionChunk],\n\u001b[1;32m    681\u001b[0m     )\n",
      "File \u001b[0;32m~/Tools/anaconda3/lib/python3.11/site-packages/openai/_base_client.py:1167\u001b[0m, in \u001b[0;36mSyncAPIClient.post\u001b[0;34m(self, path, cast_to, body, options, files, stream, stream_cls)\u001b[0m\n\u001b[1;32m   1153\u001b[0m \u001b[38;5;28;01mdef\u001b[39;00m \u001b[38;5;21mpost\u001b[39m(\n\u001b[1;32m   1154\u001b[0m     \u001b[38;5;28mself\u001b[39m,\n\u001b[1;32m   1155\u001b[0m     path: \u001b[38;5;28mstr\u001b[39m,\n\u001b[0;32m   (...)\u001b[0m\n\u001b[1;32m   1162\u001b[0m     stream_cls: \u001b[38;5;28mtype\u001b[39m[_StreamT] \u001b[38;5;241m|\u001b[39m \u001b[38;5;28;01mNone\u001b[39;00m \u001b[38;5;241m=\u001b[39m \u001b[38;5;28;01mNone\u001b[39;00m,\n\u001b[1;32m   1163\u001b[0m ) \u001b[38;5;241m-\u001b[39m\u001b[38;5;241m>\u001b[39m ResponseT \u001b[38;5;241m|\u001b[39m _StreamT:\n\u001b[1;32m   1164\u001b[0m     opts \u001b[38;5;241m=\u001b[39m FinalRequestOptions\u001b[38;5;241m.\u001b[39mconstruct(\n\u001b[1;32m   1165\u001b[0m         method\u001b[38;5;241m=\u001b[39m\u001b[38;5;124m\"\u001b[39m\u001b[38;5;124mpost\u001b[39m\u001b[38;5;124m\"\u001b[39m, url\u001b[38;5;241m=\u001b[39mpath, json_data\u001b[38;5;241m=\u001b[39mbody, files\u001b[38;5;241m=\u001b[39mto_httpx_files(files), \u001b[38;5;241m*\u001b[39m\u001b[38;5;241m*\u001b[39moptions\n\u001b[1;32m   1166\u001b[0m     )\n\u001b[0;32m-> 1167\u001b[0m     \u001b[38;5;28;01mreturn\u001b[39;00m cast(ResponseT, \u001b[38;5;28mself\u001b[39m\u001b[38;5;241m.\u001b[39mrequest(cast_to, opts, stream\u001b[38;5;241m=\u001b[39mstream, stream_cls\u001b[38;5;241m=\u001b[39mstream_cls))\n",
      "File \u001b[0;32m~/Tools/anaconda3/lib/python3.11/site-packages/openai/_base_client.py:856\u001b[0m, in \u001b[0;36mSyncAPIClient.request\u001b[0;34m(self, cast_to, options, remaining_retries, stream, stream_cls)\u001b[0m\n\u001b[1;32m    847\u001b[0m \u001b[38;5;28;01mdef\u001b[39;00m \u001b[38;5;21mrequest\u001b[39m(\n\u001b[1;32m    848\u001b[0m     \u001b[38;5;28mself\u001b[39m,\n\u001b[1;32m    849\u001b[0m     cast_to: Type[ResponseT],\n\u001b[0;32m   (...)\u001b[0m\n\u001b[1;32m    854\u001b[0m     stream_cls: \u001b[38;5;28mtype\u001b[39m[_StreamT] \u001b[38;5;241m|\u001b[39m \u001b[38;5;28;01mNone\u001b[39;00m \u001b[38;5;241m=\u001b[39m \u001b[38;5;28;01mNone\u001b[39;00m,\n\u001b[1;32m    855\u001b[0m ) \u001b[38;5;241m-\u001b[39m\u001b[38;5;241m>\u001b[39m ResponseT \u001b[38;5;241m|\u001b[39m _StreamT:\n\u001b[0;32m--> 856\u001b[0m     \u001b[38;5;28;01mreturn\u001b[39;00m \u001b[38;5;28mself\u001b[39m\u001b[38;5;241m.\u001b[39m_request(\n\u001b[1;32m    857\u001b[0m         cast_to\u001b[38;5;241m=\u001b[39mcast_to,\n\u001b[1;32m    858\u001b[0m         options\u001b[38;5;241m=\u001b[39moptions,\n\u001b[1;32m    859\u001b[0m         stream\u001b[38;5;241m=\u001b[39mstream,\n\u001b[1;32m    860\u001b[0m         stream_cls\u001b[38;5;241m=\u001b[39mstream_cls,\n\u001b[1;32m    861\u001b[0m         remaining_retries\u001b[38;5;241m=\u001b[39mremaining_retries,\n\u001b[1;32m    862\u001b[0m     )\n",
      "File \u001b[0;32m~/Tools/anaconda3/lib/python3.11/site-packages/openai/_base_client.py:947\u001b[0m, in \u001b[0;36mSyncAPIClient._request\u001b[0;34m(self, cast_to, options, remaining_retries, stream, stream_cls)\u001b[0m\n\u001b[1;32m    944\u001b[0m         err\u001b[38;5;241m.\u001b[39mresponse\u001b[38;5;241m.\u001b[39mread()\n\u001b[1;32m    946\u001b[0m     log\u001b[38;5;241m.\u001b[39mdebug(\u001b[38;5;124m\"\u001b[39m\u001b[38;5;124mRe-raising status error\u001b[39m\u001b[38;5;124m\"\u001b[39m)\n\u001b[0;32m--> 947\u001b[0m     \u001b[38;5;28;01mraise\u001b[39;00m \u001b[38;5;28mself\u001b[39m\u001b[38;5;241m.\u001b[39m_make_status_error_from_response(err\u001b[38;5;241m.\u001b[39mresponse) \u001b[38;5;28;01mfrom\u001b[39;00m \u001b[38;5;28;01mNone\u001b[39;00m\n\u001b[1;32m    949\u001b[0m \u001b[38;5;28;01mreturn\u001b[39;00m \u001b[38;5;28mself\u001b[39m\u001b[38;5;241m.\u001b[39m_process_response(\n\u001b[1;32m    950\u001b[0m     cast_to\u001b[38;5;241m=\u001b[39mcast_to,\n\u001b[1;32m    951\u001b[0m     options\u001b[38;5;241m=\u001b[39moptions,\n\u001b[0;32m   (...)\u001b[0m\n\u001b[1;32m    954\u001b[0m     stream_cls\u001b[38;5;241m=\u001b[39mstream_cls,\n\u001b[1;32m    955\u001b[0m )\n",
      "\u001b[0;31mPermissionDeniedError\u001b[0m: Error code: 403 - {'code': -14, 'msg': '剩余积分不足', 'sn': 'bebe65c8a25de70331c7bc341cdf3a09'}"
     ]
    }
   ],
   "source": [
    "user_proxy_admin.initiate_chat(\n",
    "    manager, message=\"高功能型\",\n",
    "    max_turns=10\n",
    ")"
   ]
  },
  {
   "cell_type": "code",
   "execution_count": 4,
   "id": "328b8068",
   "metadata": {},
   "outputs": [
    {
     "name": "stdout",
     "output_type": "stream",
     "text": [
      "\u001b[33muser_proxy_admin\u001b[0m (to chat_manager):\n",
      "\n",
      "非言语或低功能型\n",
      "\n",
      "--------------------------------------------------------------------------------\n",
      "\u001b[33mautism_teacher\u001b[0m (to chat_manager):\n",
      "\n",
      "【今天我们用一些简单的词语和图片来聊天吧。我会先问你喜欢什么，然后我们可以一起看看相关的图片。比如，如果你喜欢动物，我们就可以看看动物的图片。你喜欢动物、汽车还是星星呢？你可以选择一个，或者告诉我你感兴趣的其他东西。】\n",
      "\n",
      "--------------------------------------------------------------------------------\n",
      "\u001b[33mautism_child\u001b[0m (to chat_manager):\n",
      "\n",
      "【动物。】(我记得家里的小狗，它总是让我开心。)\n",
      "\n",
      "--------------------------------------------------------------------------------\n",
      "\u001b[33mautism_child\u001b[0m (to chat_manager):\n",
      "\n",
      "【动物。】(动物很好，他们不像人，不需要说话，就能明白。)\n",
      "\n",
      "--------------------------------------------------------------------------------\n",
      "\u001b[33mautism_teacher\u001b[0m (to chat_manager):\n",
      "\n",
      "【动物真的很特别呢，他们不需要说话也能表达很多情感。我们来看看动物的图片吧。想看哪种动物？是可爱的小狗、还是漂亮的小猫，或者其他动物？】\n",
      "\n",
      "--------------------------------------------------------------------------------\n",
      "\u001b[33mautism_child\u001b[0m (to chat_manager):\n",
      "\n",
      "【小狗。】(小狗，它们总是那么开心，跑来跑去的。)\n",
      "\n",
      "--------------------------------------------------------------------------------\n",
      "\u001b[33mautism_teacher\u001b[0m (to chat_manager):\n",
      "\n",
      "【小狗是很好的伙伴，它们总是那么快乐和充满活力。我们可以一起看看小狗的图片，看它们玩耍、跑步或者休息。这样，我们就能感受到它们的快乐和活力。你想看小狗玩耍的图片，还是小狗休息的图片呢？】\n",
      "\n",
      "--------------------------------------------------------------------------------\n",
      "\u001b[33mautism_child\u001b[0m (to chat_manager):\n",
      "\n",
      "【玩耍。】(看着它们玩耍，我也会觉得很高兴。)\n",
      "\n",
      "--------------------------------------------------------------------------------\n",
      "\u001b[33mautism_teacher\u001b[0m (to chat_manager):\n",
      "\n",
      "【小狗玩耍的时候总是很有趣，它们追逐球、和其他小狗嬉戏，或者在草地上滚来滚去。想象一下，一个小狗在追逐一个滚动的球，它跳跃和奔跑，尾巴摇摇欢欢。这样的画面是不是让人感觉到快乐和自由呢？我们一起想象这样美好的场景，感受到小狗的快乐和活力。】\n",
      "\n",
      "--------------------------------------------------------------------------------\n",
      "\u001b[33mautism_child\u001b[0m (to chat_manager):\n",
      "\n",
      "【是。】(我想我能感觉到那种快乐。想像中的小狗跑来跑去，很开心。)\n",
      "\n",
      "--------------------------------------------------------------------------------\n",
      "\u001b[33mautism_child\u001b[0m (to chat_manager):\n",
      "\n",
      "【小狗。】(小狗跑来跑去，好像没有烦恼。)\n",
      "\n",
      "--------------------------------------------------------------------------------\n",
      "\u001b[33mautism_teacher\u001b[0m (to chat_manager):\n",
      "\n",
      "【小狗的确是非常快乐和无忧无虑的，它们的世界充满了探索和玩耍。即使是在想象中，小狗跑来跑去的画面也能给我们带来欢乐。你想不想画一只小狗或者做一些关于小狗的手工活动呢？这样我们不仅能想象它们的快乐，还可以通过创作来表达我们对它们的喜爱。】\n",
      "\n",
      "--------------------------------------------------------------------------------\n",
      "Provide feedback to chat_manager. Press enter to skip and use auto-reply, or type 'exit' to end the conversation: exit\n"
     ]
    },
    {
     "data": {
      "text/plain": [
       "ChatResult(chat_id=None, chat_history=[{'content': '非言语或低功能型', 'role': 'assistant'}, {'content': '【今天我们用一些简单的词语和图片来聊天吧。我会先问你喜欢什么，然后我们可以一起看看相关的图片。比如，如果你喜欢动物，我们就可以看看动物的图片。你喜欢动物、汽车还是星星呢？你可以选择一个，或者告诉我你感兴趣的其他东西。】', 'name': 'autism_teacher', 'role': 'user'}, {'content': '【动物。】(我记得家里的小狗，它总是让我开心。)', 'name': 'autism_child', 'role': 'user'}, {'content': '【动物。】(动物很好，他们不像人，不需要说话，就能明白。)', 'name': 'autism_child', 'role': 'user'}, {'content': '【动物真的很特别呢，他们不需要说话也能表达很多情感。我们来看看动物的图片吧。想看哪种动物？是可爱的小狗、还是漂亮的小猫，或者其他动物？】', 'name': 'autism_teacher', 'role': 'user'}, {'content': '【小狗。】(小狗，它们总是那么开心，跑来跑去的。)', 'name': 'autism_child', 'role': 'user'}, {'content': '【小狗是很好的伙伴，它们总是那么快乐和充满活力。我们可以一起看看小狗的图片，看它们玩耍、跑步或者休息。这样，我们就能感受到它们的快乐和活力。你想看小狗玩耍的图片，还是小狗休息的图片呢？】', 'name': 'autism_teacher', 'role': 'user'}, {'content': '【玩耍。】(看着它们玩耍，我也会觉得很高兴。)', 'name': 'autism_child', 'role': 'user'}, {'content': '【小狗玩耍的时候总是很有趣，它们追逐球、和其他小狗嬉戏，或者在草地上滚来滚去。想象一下，一个小狗在追逐一个滚动的球，它跳跃和奔跑，尾巴摇摇欢欢。这样的画面是不是让人感觉到快乐和自由呢？我们一起想象这样美好的场景，感受到小狗的快乐和活力。】', 'name': 'autism_teacher', 'role': 'user'}, {'content': '【是。】(我想我能感觉到那种快乐。想像中的小狗跑来跑去，很开心。)', 'name': 'autism_child', 'role': 'user'}, {'content': '【小狗。】(小狗跑来跑去，好像没有烦恼。)', 'name': 'autism_child', 'role': 'user'}, {'content': '【小狗的确是非常快乐和无忧无虑的，它们的世界充满了探索和玩耍。即使是在想象中，小狗跑来跑去的画面也能给我们带来欢乐。你想不想画一只小狗或者做一些关于小狗的手工活动呢？这样我们不仅能想象它们的快乐，还可以通过创作来表达我们对它们的喜爱。】', 'name': 'autism_teacher', 'role': 'user'}], summary='【小狗的确是非常快乐和无忧无虑的，它们的世界充满了探索和玩耍。即使是在想象中，小狗跑来跑去的画面也能给我们带来欢乐。你想不想画一只小狗或者做一些关于小狗的手工活动呢？这样我们不仅能想象它们的快乐，还可以通过创作来表达我们对它们的喜爱。】', cost=({'total_cost': 0.29971000000000003, 'gpt-4-0125-preview': {'cost': 0.29971000000000003, 'prompt_tokens': 29800, 'completion_tokens': 57, 'total_tokens': 29724}}, {'total_cost': 0.29971000000000003, 'gpt-4-0125-preview': {'cost': 0.29971000000000003, 'prompt_tokens': 29800, 'completion_tokens': 57, 'total_tokens': 29724}}), human_input=['exit'])"
      ]
     },
     "execution_count": 4,
     "metadata": {},
     "output_type": "execute_result"
    }
   ],
   "source": [
    "user_proxy_admin.initiate_chat(\n",
    "    manager, message=\"非言语或低功能型\",\n",
    "    max_turns=10\n",
    ")"
   ]
  },
  {
   "cell_type": "code",
   "execution_count": null,
   "id": "2674c09a",
   "metadata": {},
   "outputs": [],
   "source": []
  }
 ],
 "metadata": {
  "kernelspec": {
   "display_name": "Python 3 (ipykernel)",
   "language": "python",
   "name": "python3"
  },
  "language_info": {
   "codemirror_mode": {
    "name": "ipython",
    "version": 3
   },
   "file_extension": ".py",
   "mimetype": "text/x-python",
   "name": "python",
   "nbconvert_exporter": "python",
   "pygments_lexer": "ipython3",
   "version": "3.11.5"
  }
 },
 "nbformat": 4,
 "nbformat_minor": 5
}
